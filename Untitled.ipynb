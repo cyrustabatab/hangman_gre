{
 "cells": [
  {
   "cell_type": "code",
   "execution_count": 8,
   "id": "51fabd00-6335-49a2-97d3-419ef497b62e",
   "metadata": {},
   "outputs": [],
   "source": [
    "from selenium import webdriver\n",
    "from bs4 import BeautifulSoup\n",
    "import time\n",
    "import re"
   ]
  },
  {
   "cell_type": "code",
   "execution_count": 2,
   "id": "273a92e1-a0bc-4c77-8e4b-5ec166fe6138",
   "metadata": {},
   "outputs": [],
   "source": [
    "url = 'https://gre.magoosh.com/flashcards/vocabulary/decks'"
   ]
  },
  {
   "cell_type": "code",
   "execution_count": 50,
   "id": "8090c708-0a51-4f91-a2fb-040a4a88f2d5",
   "metadata": {},
   "outputs": [],
   "source": []
  },
  {
   "cell_type": "code",
   "execution_count": 9,
   "id": "f5fecdfb-75e6-461b-881a-b9313c6bf2ec",
   "metadata": {},
   "outputs": [
    {
     "ename": "TypeError",
     "evalue": "search() missing 1 required positional argument: 'string'",
     "output_type": "error",
     "traceback": [
      "\u001b[1;31m---------------------------------------------------------------------------\u001b[0m",
      "\u001b[1;31mTypeError\u001b[0m                                 Traceback (most recent call last)",
      "\u001b[1;32m<ipython-input-9-82e0c53c939d>\u001b[0m in \u001b[0;36m<module>\u001b[1;34m\u001b[0m\n\u001b[0;32m      9\u001b[0m \u001b[1;32mfor\u001b[0m \u001b[0mlink\u001b[0m\u001b[1;33m,\u001b[0m\u001b[0mnum_word\u001b[0m \u001b[1;32min\u001b[0m \u001b[0mzip\u001b[0m\u001b[1;33m(\u001b[0m\u001b[0mlinks\u001b[0m\u001b[1;33m,\u001b[0m\u001b[0mnum_words\u001b[0m\u001b[1;33m)\u001b[0m\u001b[1;33m:\u001b[0m\u001b[1;33m\u001b[0m\u001b[1;33m\u001b[0m\u001b[0m\n\u001b[0;32m     10\u001b[0m     \u001b[0mdriver\u001b[0m\u001b[1;33m.\u001b[0m\u001b[0mexecute_script\u001b[0m\u001b[1;33m(\u001b[0m\u001b[1;34mf\"window.open('{link.get_attribute('href')}', 'new_window')\"\u001b[0m\u001b[1;33m)\u001b[0m\u001b[1;33m\u001b[0m\u001b[1;33m\u001b[0m\u001b[0m\n\u001b[1;32m---> 11\u001b[1;33m     \u001b[0mnum_word\u001b[0m \u001b[1;33m=\u001b[0m \u001b[0mint\u001b[0m\u001b[1;33m(\u001b[0m\u001b[0mre\u001b[0m\u001b[1;33m.\u001b[0m\u001b[0msearch\u001b[0m\u001b[1;33m(\u001b[0m\u001b[1;34mr\"\\d\\d\"\u001b[0m\u001b[1;33m)\u001b[0m\u001b[1;33m.\u001b[0m\u001b[0mgroup\u001b[0m\u001b[1;33m(\u001b[0m\u001b[1;33m)\u001b[0m\u001b[1;33m)\u001b[0m\u001b[1;33m\u001b[0m\u001b[1;33m\u001b[0m\u001b[0m\n\u001b[0m\u001b[0;32m     12\u001b[0m     \u001b[0mprint\u001b[0m\u001b[1;33m(\u001b[0m\u001b[0mnum_word\u001b[0m\u001b[1;33m)\u001b[0m\u001b[1;33m\u001b[0m\u001b[1;33m\u001b[0m\u001b[0m\n\u001b[0;32m     13\u001b[0m     \u001b[0mdriver\u001b[0m\u001b[1;33m.\u001b[0m\u001b[0mswitch_to\u001b[0m\u001b[1;33m.\u001b[0m\u001b[0mwindow\u001b[0m\u001b[1;33m(\u001b[0m\u001b[0mdriver\u001b[0m\u001b[1;33m.\u001b[0m\u001b[0mwindow_handles\u001b[0m\u001b[1;33m[\u001b[0m\u001b[1;36m1\u001b[0m\u001b[1;33m]\u001b[0m\u001b[1;33m)\u001b[0m\u001b[1;33m\u001b[0m\u001b[1;33m\u001b[0m\u001b[0m\n",
      "\u001b[1;31mTypeError\u001b[0m: search() missing 1 required positional argument: 'string'"
     ]
    }
   ],
   "source": [
    "driver = webdriver.Chrome(\"C:/Development/chromedriver.exe\")\n",
    "driver.get(url)\n",
    "\n",
    "num_words = driver.find_elements_by_xpath(\"//p[@class='card-text']\")\n",
    "links = driver.find_elements_by_xpath('//a[contains(text(),\"Practice this deck\")]')\n",
    "\n",
    "word_to_definition = {}\n",
    "\n",
    "for link,num_word in zip(links,num_words):\n",
    "    driver.execute_script(f\"window.open('{link.get_attribute('href')}', 'new_window')\")\n",
    "    num_word = int(re.search(r\"\\d\\d\").group())\n",
    "    print(num_word)\n",
    "    driver.switch_to.window(driver.window_handles[1])\n",
    "\n",
    "    #element.click()\n",
    "\n",
    "    for _ in range(num_word):\n",
    "        next_card = driver.find_element_by_xpath('//a[starts-with(text(),\"Click\")]')\n",
    "        next_card.click()\n",
    "        time.sleep(1)\n",
    "        word = driver.find_element_by_xpath('//h3[@class=\"flashcard-word\"]').text\n",
    "        definition = driver.find_element_by_xpath('//div[@class=\"flashcard-text\"]').text\n",
    "        s = definition.split(':')\n",
    "        word_definition = s[1].strip()\n",
    "        word_type = s[0].strip()\n",
    "        word_to_definition[word] = {'definition': word_definition,'type': word_type}\n",
    "        success = driver.find_element_by_xpath('//a[contains(text(),\"knew\")]')\n",
    "        success.click()\n",
    "        time.sleep(2)\n",
    "    driver.close()\n",
    "\n",
    "    driver.switch_to.window(driver.window_handles[0])\n",
    "\n",
    "\n",
    "\n"
   ]
  },
  {
   "cell_type": "code",
   "execution_count": 29,
   "id": "3ac4296a-30df-488b-978f-1066285c25ea",
   "metadata": {},
   "outputs": [
    {
     "data": {
      "text/plain": [
       "{'amalgam': {'definition': 'a mixture of multiple things', 'type': 'noun'},\n",
       " 'impertinent': {'definition': 'being disrespectful; improperly forward or bold',\n",
       "  'type': 'adjective'}}"
      ]
     },
     "execution_count": 29,
     "metadata": {},
     "output_type": "execute_result"
    }
   ],
   "source": [
    "word_to_definition"
   ]
  },
  {
   "cell_type": "code",
   "execution_count": 32,
   "id": "29224b8f-47b4-4577-a158-1929ac8cf4c3",
   "metadata": {},
   "outputs": [
    {
     "data": {
      "text/plain": [
       "36"
      ]
     },
     "execution_count": 32,
     "metadata": {},
     "output_type": "execute_result"
    }
   ],
   "source": [
    "len(word_to_definition)"
   ]
  },
  {
   "cell_type": "code",
   "execution_count": 33,
   "id": "177ccda4-9ca0-4de7-9586-9319b6a6707b",
   "metadata": {},
   "outputs": [],
   "source": [
    "import json"
   ]
  },
  {
   "cell_type": "code",
   "execution_count": 35,
   "id": "ab08f737-5d1f-4f37-8770-5b98e4b15670",
   "metadata": {},
   "outputs": [],
   "source": [
    "x = json.dumps(word_to_definition)"
   ]
  },
  {
   "cell_type": "code",
   "execution_count": 36,
   "id": "d6dddd5e-1cd1-4b04-b1e5-f07f4a5135ce",
   "metadata": {},
   "outputs": [],
   "source": [
    "import pandas as pd"
   ]
  },
  {
   "cell_type": "code",
   "execution_count": 39,
   "id": "8f01892c-17ec-486e-a937-a5981a3e3b77",
   "metadata": {},
   "outputs": [],
   "source": [
    "df = pd.read_json(x,orient='index').to_csv(\"words.csv\")"
   ]
  },
  {
   "cell_type": "code",
   "execution_count": 43,
   "id": "9f6740d7-f008-4f2f-8b17-34f86569f27b",
   "metadata": {},
   "outputs": [],
   "source": [
    "x = pd.read_csv(\"words.csv\",index_col=0).index"
   ]
  },
  {
   "cell_type": "code",
   "execution_count": 44,
   "id": "2dd96b14-370c-43b7-92e8-32e2123e6559",
   "metadata": {},
   "outputs": [],
   "source": [
    "import random"
   ]
  },
  {
   "cell_type": "code",
   "execution_count": 47,
   "id": "22c2b2c6-d637-4dfc-b251-6d4de6cabdc9",
   "metadata": {},
   "outputs": [
    {
     "data": {
      "text/plain": [
       "'equivocal'"
      ]
     },
     "execution_count": 47,
     "metadata": {},
     "output_type": "execute_result"
    }
   ],
   "source": [
    "x[5]"
   ]
  },
  {
   "cell_type": "code",
   "execution_count": null,
   "id": "6f686d5b-c4cb-4155-95e4-f0f9c405be81",
   "metadata": {},
   "outputs": [],
   "source": []
  }
 ],
 "metadata": {
  "kernelspec": {
   "display_name": "Python 3",
   "language": "python",
   "name": "python3"
  },
  "language_info": {
   "codemirror_mode": {
    "name": "ipython",
    "version": 3
   },
   "file_extension": ".py",
   "mimetype": "text/x-python",
   "name": "python",
   "nbconvert_exporter": "python",
   "pygments_lexer": "ipython3",
   "version": "3.8.8"
  }
 },
 "nbformat": 4,
 "nbformat_minor": 5
}
